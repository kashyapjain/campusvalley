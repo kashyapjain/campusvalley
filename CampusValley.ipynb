{
  "nbformat": 4,
  "nbformat_minor": 0,
  "metadata": {
    "colab": {
      "provenance": [],
      "gpuType": "T4",
      "mount_file_id": "1vGoNnXL344RhRBmoGTyFxfjaFugE76os",
      "authorship_tag": "ABX9TyN9dO9vLD7sNw3cDeZJH/rE"
    },
    "kernelspec": {
      "name": "python3",
      "display_name": "Python 3"
    },
    "language_info": {
      "name": "python"
    },
    "accelerator": "GPU"
  },
  "cells": [
    {
      "cell_type": "markdown",
      "source": [
        "## Task 1"
      ],
      "metadata": {
        "id": "3RMZr6KbiJ2_"
      }
    },
    {
      "cell_type": "code",
      "source": [
        "import pandas as pd\n",
        "from sklearn.model_selection import train_test_split\n",
        "from sklearn.feature_extraction.text import TfidfVectorizer\n",
        "from sklearn.naive_bayes import MultinomialNB\n",
        "from sklearn.metrics import accuracy_score, classification_report\n",
        "\n",
        "data = pd.read_csv(\"https://raw.githubusercontent.com/kashyapjain/Datasets/main/train_data.csv\")\n",
        "\n",
        "X = data[\" DESCRIPTION\"]\n",
        "y = data[\" GENRE \"]\n",
        "\n",
        "X_train, X_test, y_train, y_test = train_test_split(X, y, test_size=0.2, random_state=42)\n",
        "\n",
        "tfidf_vectorizer = TfidfVectorizer(max_features=5000)\n",
        "X_train_tfidf = tfidf_vectorizer.fit_transform(X_train)\n",
        "X_test_tfidf = tfidf_vectorizer.transform(X_test)\n",
        "\n",
        "naive_bayes = MultinomialNB()\n",
        "naive_bayes.fit(X_train_tfidf, y_train)\n",
        "\n",
        "y_pred = naive_bayes.predict(X_test_tfidf)\n",
        "\n",
        "accuracy = accuracy_score(y_test, y_pred)\n",
        "print(\"Accuracy:\", accuracy)\n",
        "\n",
        "print(classification_report(y_test, y_pred))"
      ],
      "metadata": {
        "colab": {
          "base_uri": "https://localhost:8080/"
        },
        "id": "IvMff9TARBNj",
        "outputId": "1bd24e44-bf7b-4f07-ac26-96cd8b2e3d3b"
      },
      "execution_count": null,
      "outputs": [
        {
          "output_type": "stream",
          "name": "stdout",
          "text": [
            "Accuracy: 0.4061361457334612\n"
          ]
        },
        {
          "output_type": "stream",
          "name": "stderr",
          "text": [
            "/usr/local/lib/python3.10/dist-packages/sklearn/metrics/_classification.py:1344: UndefinedMetricWarning: Precision and F-score are ill-defined and being set to 0.0 in labels with no predicted samples. Use `zero_division` parameter to control this behavior.\n",
            "  _warn_prf(average, modifier, msg_start, len(result))\n",
            "/usr/local/lib/python3.10/dist-packages/sklearn/metrics/_classification.py:1344: UndefinedMetricWarning: Precision and F-score are ill-defined and being set to 0.0 in labels with no predicted samples. Use `zero_division` parameter to control this behavior.\n",
            "  _warn_prf(average, modifier, msg_start, len(result))\n"
          ]
        },
        {
          "output_type": "stream",
          "name": "stdout",
          "text": [
            "                                                                                  precision    recall  f1-score   support\n",
            "\n",
            "                                                             1900 - 1986 (2008)        0.00      0.00      0.00         1\n",
            "                                                              1ra parte\" (2012)        0.00      0.00      0.00         1\n",
            "                                                                        20 casas       0.00      0.00      0.00         1\n",
            "                                                  Abandoned 1930's Motel (2016)        0.00      0.00      0.00         1\n",
            "                                                                 America (2008)        0.00      0.00      0.00         1\n",
            "                                                       Angels and Demons (2013)        0.00      0.00      0.00         1\n",
            "                                                       Apostle of Christ (2018)        0.00      0.00      0.00         1\n",
            "                                                          Art & Politics (2011)        0.00      0.00      0.00         1\n",
            "                                     Asesinos invisibles al descubierto\" (2009)        0.00      0.00      0.00         1\n",
            "                                                                         Aviator       0.00      0.00      0.00         1\n",
            "                                            Avstralija in jutri ves svet (2017)        0.00      0.00      0.00         1\n",
            "                                    BONE and the Changing Face of Comics (2009)        0.00      0.00      0.00         1\n",
            "                                                      Baby! Sammy Hagar\" (2008)        0.00      0.00      0.00         1\n",
            "                                                              Back Wards (2005)        0.00      0.00      0.00         1\n",
            "                                                  Bad Girls & Chloroform (2001)        0.00      0.00      0.00         1\n",
            "                                                      Bare and Beautiful (1963)        0.00      0.00      0.00         1\n",
            "                                           Based on Simone Elkeles Books (2014)        0.00      0.00      0.00         1\n",
            "                                                     Beast of the Amazon (1956)        0.00      0.00      0.00         1\n",
            "                                                Beenie Man and Ninja Man (2001)        0.00      0.00      0.00         1\n",
            "                                                        Believed Married (1937)        0.00      0.00      0.00         1\n",
            "                                                                      Biker Gang       0.00      0.00      0.00         1\n",
            "                                     Bird and Fortune: A Bunch of Counts (2005)        0.00      0.00      0.00         1\n",
            "                                                      Bleeps & Blunders\" (1984)        0.00      0.00      0.00         1\n",
            "                                                    Blunders and Ad-Libs (1994)        0.00      0.00      0.00         1\n",
            "                                                            Born to Ride (2008)        0.00      0.00      0.00         1\n",
            "                                                            Cabra Rainha (2008)        0.00      0.00      0.00         1\n",
            "                                                              California (2015)        0.00      0.00      0.00         1\n",
            "                                                                         Chicago       0.00      0.00      0.00         1\n",
            "                                                                  Cometa (1986)        0.00      0.00      0.00         1\n",
            "                                                     Con alma de pirata\" (2001)        0.00      0.00      0.00         1\n",
            "                                                                 Concord (2012)        0.00      0.00      0.00         1\n",
            "                                                  Corydon & Davis County (2014)        0.00      0.00      0.00         1\n",
            " Creepiest Place in Town: The Baltimore Catacombs at Fort Armistead Park (2016)        0.00      0.00      0.00         1\n",
            "                                                     Cryptids and Ghosts (2013)        0.00      0.00      0.00         1\n",
            "                                                                   Day 2 (2011)        0.00      0.00      0.00         1\n",
            "                                                                          Demons       0.00      0.00      0.00         1\n",
            "                                                     Dennis & The French (2011)        0.00      0.00      0.00         1\n",
            "                                                           Different Day (2016)        0.00      0.00      0.00         1\n",
            "                                          Digital Painter and Ilustrator (2011)        0.00      0.00      0.00         1\n",
            "                                                            Dillit Mujra (2009)        0.00      0.00      0.00         1\n",
            "                                   Don't They? ...The Making of 'Mirage' (2000)        0.00      0.00      0.00         1\n",
            "                                                     Drugs & Hospitality (2017)        0.00      0.00      0.00         1\n",
            "                                                     El cine sin sostén\" (2003)        0.00      0.00      0.00         1\n",
            "                                              El príncipe de la canción\" (2005)        0.00      0.00      0.00         1\n",
            "                                                   El pueblo del jaguar\" (2007)        0.00      0.00      0.00         1\n",
            "                                                     El pueblo del maíz\" (2003)        0.00      0.00      0.00         1\n",
            "                                                    El valor de la vida\" (2001)        0.00      0.00      0.00         1\n",
            "                                                          El viejo lobo\" (2004)        0.00      0.00      0.00         1\n",
            "                                                   Emergency Operations) (1943)        0.00      0.00      0.00         1\n",
            "                                                                          Family       0.00      0.00      0.00         1\n",
            "                                                                  Fanboy (2005)        0.00      0.00      0.00         1\n",
            "                                                 Fantastical News Report (1998)        0.00      0.00      0.00         1\n",
            "                                          Friends from the Opposite Ends (2007)        0.00      0.00      0.00         1\n",
            "                                                                GA Lives (2006)        0.00      0.00      0.00         1\n",
            "                                                                           Ghana       0.00      0.00      0.00         1\n",
            "                                                                    Girl (2016)        0.00      0.00      0.00         1\n",
            "                                                                   Girls (1981)        0.00      0.00      0.00         1\n",
            "                                                                    Glynn Turman       0.00      0.00      0.00         1\n",
            "                                                             Good Deeds\" (2011)        0.00      0.00      0.00         1\n",
            "                                                                  Gracie (1983)        0.00      0.00      0.00         1\n",
            "                                                                          Greece       0.00      0.00      0.00         1\n",
            "                                                                           Greed       0.00      0.00      0.00         1\n",
            "                                                                    Guam (2017)        0.00      0.00      0.00         1\n",
            "                                                              Guten Tag! (2017)        0.00      0.00      0.00         1\n",
            "                                                   Haghighat-e gomshodeh (2003)        0.00      0.00      0.00         1\n",
            "                                                                  Hawaii (1989)        0.00      0.00      0.00         1\n",
            "                                                                  He Was (????)        0.00      0.00      0.00         1\n",
            "                                      Health & Style with Kathy Ireland\" (2014)        0.00      0.00      0.00         1\n",
            "                                                        His Own Prisoner (2019)        0.00      0.00      0.00         1\n",
            "                                Historia de la electricidad en México 2\" (2011)        0.00      0.00      0.00         1\n",
            "                                                 How Are You Guest 10497 (2012)        0.00      0.00      0.00         1\n",
            "                                                            Hunters Moon (2009)        0.00      0.00      0.00         1\n",
            "                                            I Have Something to Tell You (2010)        0.00      0.00      0.00         1\n",
            "                                                         I Live in Cuba! (2004)        0.00      0.00      0.00         1\n",
            "                                                             I Love You\" (2017)        0.00      0.00      0.00         1\n",
            "                                                                   Iago! (2005)        0.00      0.00      0.00         1\n",
            "                                                       Interna e Secreta (2014)        0.00      0.00      0.00         1\n",
            "                                                                Iron Men (1989)        0.00      0.00      0.00         1\n",
            "                                        Isn't That What Poetry Is About? (2009)        0.00      0.00      0.00         1\n",
            "                                                      It Is Not for Sale (1987)        0.00      0.00      0.00         1\n",
            "                                                             Johnny Wake (2007)        0.00      0.00      0.00         1\n",
            "                                                                Jr. USMC (2006)        0.00      0.00      0.00         1\n",
            "                                                                  Kansas (2006)        0.00      0.00      0.00         1\n",
            "                                                                 Kennedy (2017)        0.00      0.00      0.00         1\n",
            "                                                        Kent vs. Ravenna (2014)        0.00      0.00      0.00         1\n",
            "                                                                     Kid (2009)        0.00      0.00      0.00         1\n",
            "                                                     King of the Cowboys (1992)        0.00      0.00      0.00         1\n",
            "                                                                         Ladders       0.00      0.00      0.00         1\n",
            "                                                        Ladders & Chairs (2012)        0.00      0.00      0.00         1\n",
            "                                                               Las Vegas (2016)        0.00      0.00      0.00         1\n",
            "                                                     Legends of the Road (2007)        0.00      0.00      0.00         1\n",
            "                                                                            Lies       0.00      0.00      0.00         1\n",
            "                                                    Life Behind the Wall (2017)        0.00      0.00      0.00         1\n",
            "                                                             Little Low\" (2014)        0.00      0.00      0.00         1\n",
            "                                                                Lonesome (2009)        0.00      0.00      0.00         1\n",
            "                               Los grupos en el arte mexicano 1968-1983\" (2004)        0.00      0.00      0.00         1\n",
            "                                   Los hombres del maíz y los presagios\" (2003)        0.00      0.00      0.00         1\n",
            "                                         Los nuevos lenguajes 1960-2000\" (2000)        0.00      0.00      0.00         1\n",
            "                                                     Loss and C.S. Lewis (2011)        0.00      0.00      0.00         1\n",
            "                                                                  Lovers (1994)        0.00      0.00      0.00         1\n",
            "                                                       Lunch and Dinner\" (2004)        0.00      0.00      0.00         1\n",
            "                                                                      MD (2016)        0.00      0.00      0.00         1\n",
            "                                                                           Macau       0.00      0.00      0.00         1\n",
            "                                                             Magic Sword (2016)        0.00      0.00      0.00         1\n",
            "                                                                  Marie Dressler       0.00      0.00      0.00         1\n",
            "                                                                       McCartney       0.00      0.00      0.00         1\n",
            "                                                               Minnesota (2003)        0.00      0.00      0.00         1\n",
            "                                                               Miss Dove (1955)        0.00      0.00      0.00         1\n",
            "                                                               Mon Amour (2008)        0.00      0.00      0.00         1\n",
            "                                                             Moon & Star (1961)        0.00      0.00      0.00         1\n",
            "                                                   Mugs and Violence.... (2009)        0.00      0.00      0.00         1\n",
            "                                                          My Beloved Yak (2006)        0.00      0.00      0.00         1\n",
            "                                                               My Faith\" (2017)        0.00      0.00      0.00         1\n",
            "                                                                My Hero\" (2006)        0.00      0.00      0.00         1\n",
            "                                                                No Glory (2014)        0.00      0.00      0.00         1\n",
            "                                                               Old Times (2013)        0.00      0.00      0.00         1\n",
            "                                                                     One Journey       0.00      0.00      0.00         1\n",
            "                                                                One Soul (2017)        0.00      0.00      0.00         1\n",
            "                                                               Our Fight (1998)        0.00      0.00      0.00         1\n",
            "                                                                      PA (2008)        0.00      0.00      0.00         1\n",
            "                                                                   Paito (2001)        0.00      0.00      0.00         1\n",
            "                                                                  Part 1 (2006)        0.00      0.00      0.00         1\n",
            "                                       Part 1: The Curse of the Emo Vamp (2006)        0.00      0.00      0.00         1\n",
            "                                                           Part I and II (2016)        0.00      0.00      0.00         1\n",
            "                                                                   Ph.D. (1990)        0.00      0.00      0.00         1\n",
            "                                             Pol Pot and the Khmer Rouge (2012)        0.00      0.00      0.00         1\n",
            "                                                               Porn Star (2003)        0.00      0.00      0.00         1\n",
            "                                                                           Power       0.00      0.00      0.00         1\n",
            "                                                                      Predjudice       0.00      0.00      0.00         1\n",
            "                                                                         Present       0.00      0.00      0.00         1\n",
            "                                                                            Prey       0.00      0.00      0.00         1\n",
            "                                                       Prince of Denmark (1980)        0.00      0.00      0.00         1\n",
            "                                                  Problems and Solutions (2007)        0.00      0.00      0.00         1\n",
            "                                            Productive & Mentally Stable (2017)        0.00      0.00      0.00         1\n",
            "                                                      Program 1: Balance (1992)        0.00      0.00      0.00         1\n",
            "                               Race to Incarcerate: A Progressive Voice\" (2014)        0.00      0.00      0.00         1\n",
            "                                                                          Rebels       0.00      0.00      0.00         1\n",
            "                                                                           Remix       0.00      0.00      0.00         1\n",
            "                                              Restoring the 'Clearwater' (2017)        0.00      0.00      0.00         1\n",
            "                                                            Rudolf Ming? (2010)        0.00      0.00      0.00         1\n",
            "                                                                 Runaway (1972)        0.00      0.00      0.00         1\n",
            "                                                          Said the Shark (2015)        0.00      0.00      0.00         1\n",
            "                                                         Saint & Swinger (2017)        0.00      0.00      0.00         1\n",
            "                                      Salam Cuisine from Hebron to Jenin (2015)        0.00      0.00      0.00         1\n",
            "                                                                           Santa       0.00      0.00      0.00         1\n",
            "                                              Seven New Orleans sketches (2007)        0.00      0.00      0.00         1\n",
            "                                         Seven Sins of an Amazonian Work (2015)        0.00      0.00      0.00         1\n",
            "                                       She Baked: A Plum Pudding Mystery (2015)        0.00      0.00      0.00         1\n",
            "                                                              She's Mine (1963)        0.00      0.00      0.00         1\n",
            "                                                        Shoes & Unicorns (2005)        0.00      0.00      0.00         1\n",
            "                                                              Side Chick (????)        0.00      0.00      0.00         1\n",
            "                                                          Soaring Stones (2004)        0.00      0.00      0.00         1\n",
            "                                                           Something New (2004)        0.00      0.00      0.00         1\n",
            "                                                                   Spain (1992)        0.00      0.00      0.00         1\n",
            "                                                           Stammi Vicino (2003)        0.00      0.00      0.00         1\n",
            "                                                           Stayed Pretty (2008)        0.00      0.00      0.00         1\n",
            "                                     Still Single: Contemplating Suicide (1998)        0.00      0.00      0.00         1\n",
            "                                                                   Sucar & Melha       0.00      0.00      0.00         1\n",
            "                                                                          Sugary       0.00      0.00      0.00         1\n",
            "                                                                 Teacher (1969)        0.00      0.00      0.00         1\n",
            "                                                                   Texas (1995)        0.00      0.00      0.00         1\n",
            "                                                                   Texas (2014)        0.00      0.00      0.00         1\n",
            "                                         Texas: Scenes from the Drug War (2003)        0.00      0.00      0.00         1\n",
            "                                                          Therefore I Am (2009)        0.00      0.00      0.00         1\n",
            "                                                         These Are Ours) (2015)        0.00      0.00      0.00         1\n",
            "                                                                         Thunder       0.00      0.00      0.00         1\n",
            "                                                                   Tiger (????)        0.00      0.00      0.00         1\n",
            "                                                                 Too Far (2008)        0.00      0.00      0.00         1\n",
            "                                         Tourism and the Primate's Place (2008)        0.00      0.00      0.00         1\n",
            "                                            Tragedia lirica in four acts (2012)        0.00      0.00      0.00         1\n",
            "                                                                  U.S.A. (1984)        0.00      0.00      0.00         1\n",
            "                                                                 U.S.A.\" (1952)        0.00      0.00      0.00         1\n",
            "                                               UFOs and the Men in Black (2013)        0.00      0.00      0.00         1\n",
            "                                        Una familia en el cine mexicano\" (2000)        0.00      0.00      0.00         1\n",
            "                                                                  Unkiye (????)        0.00      0.00      0.00         1\n",
            "                                                         Varun That Side (2017)        0.00      0.00      0.00         1\n",
            "                            Vol IV: The Elegance of Baroque Social Dance (2003)        0.00      0.00      0.00         1\n",
            "                 Vol VI: A 19th Century Ball - The Charm of Group Dances (2003)        0.00      0.00      0.00         1\n",
            "                                                                Volume 1 (2004)        0.00      0.00      0.00         1\n",
            "                                                                Volume 2 (2006)        0.00      0.00      0.00         1\n",
            "                                                              We're Dead (????)        0.00      0.00      0.00         1\n",
            "                                                                    Where We Are       0.00      0.00      0.00         1\n",
            "                                                   Where's My Chutzpah?\" (2013)        0.00      0.00      0.00         1\n",
            "                                               a Metaphysical Love Story (????)        0.00      0.00      0.00         1\n",
            "                                    a New Fragrance by Francesco Vezzoli (2009)        0.00      0.00      0.00         1\n",
            "                                                        a romanian story (2017)        0.00      0.00      0.00         1\n",
            "                                                                         action        0.67      0.01      0.01       284\n",
            "                                                                          adult        0.00      0.00      0.00       111\n",
            "                                                                      adventure        0.00      0.00      0.00       137\n",
            "                                                           and Good Luck (2016)        0.00      0.00      0.00         1\n",
            "                                                                 andjele (2007)        0.00      0.00      0.00         1\n",
            "                                                                      animation        0.00      0.00      0.00       108\n",
            "                                                    au nom de la liberté (2000)        0.00      0.00      0.00         1\n",
            "                                                                            baad       0.00      0.00      0.00         1\n",
            "                                                                      biography        0.00      0.00      0.00        37\n",
            "                                                         biyuda si mommy (1997)        0.00      0.00      0.00         1\n",
            "                                                      burro e marmellata (1977)        0.00      0.00      0.00         1\n",
            "                                                           c'est l'autre (2004)        0.00      0.00      0.00         1\n",
            "                                                          c'est un gars! (2014)        0.00      0.00      0.00         1\n",
            "                                                            capítulo IV\" (2002)        0.00      0.00      0.00         1\n",
            "                                                                         comedy        0.40      0.25      0.31      1390\n",
            "                                                                          crime        0.00      0.00      0.00        99\n",
            "                                                      daß ihr mich liebt (1976)        0.00      0.00      0.00         1\n",
            "                                                  der 13. - Das unheimliche Haus       0.00      0.00      0.00         1\n",
            "                                                            der Erfinder (1986)        0.00      0.00      0.00         1\n",
            "                                                        der Klugscheißer (2016)        0.00      0.00      0.00         1\n",
            "                                    dezinformacja i kryzysy kontrolowane (2014)        0.00      0.00      0.00         1\n",
            "                                                              die Henkerstochter       0.00      0.00      0.00         1\n",
            "                                                    die Zahlen zu lieben (2014)        0.00      0.00      0.00         1\n",
            "                                                   die sich hocharbeiten (1974)        0.00      0.00      0.00         1\n",
            "                                                                    documentary        0.45      0.76      0.57      2443\n",
            "                                                                          drama        0.37      0.76      0.50      2549\n",
            "                                                                     día (2010)        0.00      0.00      0.00         1\n",
            "                                                             elle chante (2011)        0.00      0.00      0.00         1\n",
            "                                                                         family        0.00      0.00      0.00       148\n",
            "                                                                        fantasy        0.00      0.00      0.00        63\n",
            "                                                           fausse Jeanne (2008)        0.00      0.00      0.00         1\n",
            "                                                      fragmentos Andinos (2011)        0.00      0.00      0.00         1\n",
            "                                                                      game-show        0.00      0.00      0.00        32\n",
            "                                                       haverzh veradardz (2014)        0.00      0.00      0.00         1\n",
            "                                                                        history        0.00      0.00      0.00        36\n",
            "                                                       hod ho do stroje! (1974)        0.00      0.00      0.00         1\n",
            "                                                                         horror        0.67      0.03      0.05       419\n",
            "                                                           ich töte dich (1971)        0.00      0.00      0.00         1\n",
            "                                                   ihm schmeckt's nicht! (2009)        0.00      0.00      0.00         1\n",
            "                                                      ili smekh i slyozy (1976)        0.00      0.00      0.00         1\n",
            "                                                               in Spring (1996)        0.00      0.00      0.00         1\n",
            "                                                             inspektore! (1983)        0.00      0.00      0.00         1\n",
            "                                                                              io       0.00      0.00      0.00         1\n",
            "                                                          je te plumerai (1988)        0.00      0.00      0.00         1\n",
            "                                                                       kak smert       0.00      0.00      0.00         1\n",
            "                                                                        kamaráde       0.00      0.00      0.00         1\n",
            "                                                              kapamilya\" (2006)        0.00      0.00      0.00         1\n",
            "                                                         kogoto poznavam (1973)        0.00      0.00      0.00         1\n",
            "                                               koyato Hemingway ne opisa (2008)        0.00      0.00      0.00         1\n",
            "                                                         krpelji i pcele (2012)        0.00      0.00      0.00         1\n",
            "                                                             l'arnaqueur (2013)        0.00      0.00      0.00         1\n",
            "                                                            l'eau frette (1976)        0.00      0.00      0.00         1\n",
            "                                                  l'immagine dell'orrore (2008)        0.00      0.00      0.00         1\n",
            "                                                                la bocca (1982)        0.00      0.00      0.00         1\n",
            "                                                             la búsqueda (2016)        0.00      0.00      0.00         1\n",
            "                                                 la cazadora de insectos (2001)        0.00      0.00      0.00         1\n",
            "                                         la cultura sanitaria en México\" (2014)        0.00      0.00      0.00         1\n",
            "                          la donna e la bestia - Spell (Dolce mattatoio) (1977)        0.00      0.00      0.00         1\n",
            "                                                            la luna e tu (1958)        0.00      0.00      0.00         1\n",
            "                                                    la memoria obstinada (1997)        0.00      0.00      0.00         1\n",
            "                                                       la puerca asesina (1990)        0.00      0.00      0.00         1\n",
            "                                              la tragedia di un paradiso (2008)        0.00      0.00      0.00         1\n",
            "                                                      la vraie histoire\" (2008)        0.00      0.00      0.00         1\n",
            "                                              le Nigeria fait son cinema (2009)        0.00      0.00      0.00         1\n",
            "                                                        le gout de vivre (2013)        0.00      0.00      0.00         1\n",
            "                                                     le passé au présent (1987)        0.00      0.00      0.00         1\n",
            "                                                          leila va leili (1972)        0.00      0.00      0.00         1\n",
            "                                         luoghi e miti di Ferito a morte (2014)        0.00      0.00      0.00         1\n",
            "                                                             merci maman (2010)        0.00      0.00      0.00         1\n",
            "                                                      mia bella matrigna (1976)        0.00      0.00      0.00         1\n",
            "                                                              mon amour\" (2007)        0.00      0.00      0.00         1\n",
            "                                                              mon amour\" (2015)        0.00      0.00      0.00         1\n",
            "                                                                          music        1.00      0.01      0.01       136\n",
            "                                                                        musical        0.00      0.00      0.00        48\n",
            "                                                                        mystery        0.00      0.00      0.00        58\n",
            "                                                 nach der man sich sehnt (1929)        0.00      0.00      0.00         1\n",
            "                                          nascita e morte di una nazione (2000)        0.00      0.00      0.00         1\n",
            "                                                                           news        0.00      0.00      0.00        29\n",
            "                                                       nidoto aenai kimi (2017)        0.00      0.00      0.00         1\n",
            "                                                           opéra fantôme (2016)        0.00      0.00      0.00         1\n",
            "                                                                              or       0.00      0.00      0.00         1\n",
            "               par kura galvu izsludinata 150 000 dolaru liela atlidziba (2009)        0.00      0.00      0.00         1\n",
            "                                                       ragazza in calore (1981)        0.00      0.00      0.00         1\n",
            "                                                                     reality-tv        0.00      0.00      0.00       157\n",
            "                                                                        romance        0.00      0.00      0.00       109\n",
            "                                                                         sci-fi        0.00      0.00      0.00       124\n",
            "                                                               serduszko (2014)        0.00      0.00      0.00         1\n",
            "                                                                          short        0.39      0.03      0.06       958\n",
            "                                                              signora... (1939)        0.00      0.00      0.00         1\n",
            "                                                                          sport        0.88      0.08      0.15        85\n",
            "                                                                      talk-show        0.00      0.00      0.00        67\n",
            "                                                                 también (2009)        0.00      0.00      0.00         1\n",
            "                                                       tesoro del Caribe (2017)        0.00      0.00      0.00         1\n",
            "                                                     the Adulterous Wife (2008)        0.00      0.00      0.00         1\n",
            "                                                               the Band\" (2015)        0.00      0.00      0.00         1\n",
            "                                                         the City and Me (2007)        0.00      0.00      0.00         1\n",
            "                                                              the Comedy (1998)        0.00      0.00      0.00         1\n",
            "                                                             the Cricket (1915)        0.00      0.00      0.00         1\n",
            "                                                              the Dearer (2007)        0.00      0.00      0.00         1\n",
            "                                                         the Earth Below (1989)        0.00      0.00      0.00         1\n",
            "                                the Mods and the Quadrophenia Connection (2009)        0.00      0.00      0.00         1\n",
            "                                                  the River and the Road (2009)        0.00      0.00      0.00         1\n",
            "                                          the Small One with a Big Heart (????)        0.00      0.00      0.00         1\n",
            "                                         the Watch and the Very Big Fish (1991)        0.00      0.00      0.00         1\n",
            "                                                       the Wild Stallion (1939)        0.00      0.00      0.00         1\n",
            "                                              the World and Wally Hickel (2013)        0.00      0.00      0.00         1\n",
            "                                                                       thriller        0.50      0.01      0.01       288\n",
            "                                                               uccidimi! (1973)        0.00      0.00      0.00         1\n",
            "                                                          umer ded moroz (1991)        0.00      0.00      0.00         1\n",
            "                                                        un mal escondido (2005)        0.00      0.00      0.00         1\n",
            "                                       une histoire populaire américaine (2015)        0.00      0.00      0.00         1\n",
            "                                                                vannrett (1997)        0.00      0.00      0.00         1\n",
            "                                                                            war        0.00      0.00      0.00        23\n",
            "                                                                        western        1.00      0.08      0.15       211\n",
            "                                                whisky et p'tites pépées (1959)        0.00      0.00      0.00         1\n",
            "                                                    wird passend gemacht (2002)        0.00      0.00      0.00         1\n",
            "                                                               with Love (2013)        0.00      0.00      0.00         1\n",
            "                                                            with Love II (1996)        0.00      0.00      0.00         1\n",
            "                                                         épicier variété (2003)        0.00      0.00      0.00         1\n",
            "                                                     000 Miles from Home (2009)        0.00      0.00      0.00         1\n",
            "                                       000 Places to See Before You Die\" (2007)        0.00      0.00      0.00         1\n",
            "                                                                               2       0.00      0.00      0.00         1\n",
            "\n",
            "                                                                        accuracy                           0.41     10430\n",
            "                                                                       macro avg       0.02      0.01      0.01     10430\n",
            "                                                                    weighted avg       0.38      0.41      0.31     10430\n",
            "\n"
          ]
        },
        {
          "output_type": "stream",
          "name": "stderr",
          "text": [
            "/usr/local/lib/python3.10/dist-packages/sklearn/metrics/_classification.py:1344: UndefinedMetricWarning: Precision and F-score are ill-defined and being set to 0.0 in labels with no predicted samples. Use `zero_division` parameter to control this behavior.\n",
            "  _warn_prf(average, modifier, msg_start, len(result))\n"
          ]
        }
      ]
    },
    {
      "cell_type": "markdown",
      "source": [
        "## Task 2"
      ],
      "metadata": {
        "id": "GI7dbLb4hn6n"
      }
    },
    {
      "cell_type": "code",
      "source": [
        "!unzip /content/drive/MyDrive/Kaggle/fraud-detection.zip"
      ],
      "metadata": {
        "colab": {
          "base_uri": "https://localhost:8080/"
        },
        "id": "yF-94iYuiSow",
        "outputId": "be76e9c6-ab2d-4e14-e93d-e081f5915d3b"
      },
      "execution_count": null,
      "outputs": [
        {
          "output_type": "stream",
          "name": "stdout",
          "text": [
            "Archive:  /content/drive/MyDrive/Kaggle/fraud-detection.zip\n",
            "replace fraudTest.csv? [y]es, [n]o, [A]ll, [N]one, [r]ename: "
          ]
        }
      ]
    },
    {
      "cell_type": "code",
      "source": [
        "import pandas as pd\n",
        "fraudTrain = pd.read_csv(\"/content/fraudTrain.csv\")\n",
        "fraudTest = pd.read_csv(\"/content/fraudTest.csv\")"
      ],
      "metadata": {
        "id": "jG-19vrEiqdx"
      },
      "execution_count": null,
      "outputs": []
    },
    {
      "cell_type": "code",
      "source": [
        "import datetime\n",
        "import numpy as np\n",
        "import pandas as pd\n",
        "import matplotlib.pyplot as plt\n",
        "import seaborn as sns\n",
        "from sklearn.model_selection import train_test_split\n",
        "from sklearn.svm import SVC\n",
        "from sklearn.metrics import accuracy_score\n",
        "from sklearn.preprocessing import LabelEncoder"
      ],
      "metadata": {
        "id": "O4-1hMHcvaSQ"
      },
      "execution_count": null,
      "outputs": []
    },
    {
      "cell_type": "code",
      "source": [
        "train_data = fraudTrain"
      ],
      "metadata": {
        "id": "NndxGbrVvdK2"
      },
      "execution_count": null,
      "outputs": []
    },
    {
      "cell_type": "code",
      "source": [
        "train_data[\"trans_date_trans_time\"] = pd.to_datetime(train_data[\"trans_date_trans_time\"])\n",
        "train_data[\"dob\"] = pd.to_datetime(train_data[\"dob\"])"
      ],
      "metadata": {
        "id": "dQ0LJNHIvhzy"
      },
      "execution_count": null,
      "outputs": []
    },
    {
      "cell_type": "code",
      "source": [
        "train_data.drop(columns=['Unnamed: 0','cc_num','first', 'last', 'street', 'city', 'state', 'zip', 'dob', 'trans_num','trans_date_trans_time'],inplace=True)"
      ],
      "metadata": {
        "id": "tzshciFMvrWi"
      },
      "execution_count": null,
      "outputs": []
    },
    {
      "cell_type": "code",
      "source": [
        "train_data.dropna(ignore_index=True)"
      ],
      "metadata": {
        "id": "6LDwxR6qvtex"
      },
      "execution_count": null,
      "outputs": []
    },
    {
      "cell_type": "code",
      "source": [
        "encoder = LabelEncoder()\n",
        "train_data[\"merchant\"] = encoder.fit_transform(train_data[\"merchant\"])\n",
        "train_data[\"category\"] = encoder.fit_transform(train_data[\"category\"])\n",
        "train_data[\"gender\"] = encoder.fit_transform(train_data[\"gender\"])\n",
        "train_data[\"job\"] = encoder.fit_transform(train_data[\"job\"])"
      ],
      "metadata": {
        "id": "jSN9Fq6Lvxwt"
      },
      "execution_count": null,
      "outputs": []
    },
    {
      "cell_type": "code",
      "source": [
        "exit_counts = train_data[\"is_fraud\"].value_counts()\n",
        "plt.figure(figsize=(12, 6))\n",
        "plt.subplot(1, 2, 1)  # Subplot for the pie chart\n",
        "plt.pie(exit_counts, labels=[\"No\", \"YES\"], autopct=\"%0.0f%%\")\n",
        "plt.title(\"is_fraud Counts\")\n",
        "plt.tight_layout()  # Adjust layout to prevent overlapping\n",
        "plt.show()"
      ],
      "metadata": {
        "id": "iLaMGRbkv0SC"
      },
      "execution_count": null,
      "outputs": []
    },
    {
      "cell_type": "code",
      "source": [
        "X = train_data.drop(columns=[\"is_fraud\"], inplace = False)\n",
        "Y = train_data[\"is_fraud\"]"
      ],
      "metadata": {
        "id": "haz41bbOv3N8"
      },
      "execution_count": null,
      "outputs": []
    },
    {
      "cell_type": "code",
      "source": [
        "model = SVC()\n",
        "model.fit(X, Y)"
      ],
      "metadata": {
        "id": "e7c1ekMov5bR"
      },
      "execution_count": null,
      "outputs": []
    },
    {
      "cell_type": "markdown",
      "source": [],
      "metadata": {
        "id": "E8PhZqg0PNL_"
      }
    },
    {
      "cell_type": "code",
      "source": [
        "test_data = fraudTest\n",
        "test_data.drop(columns=['Unnamed: 0','cc_num','first', 'last', 'street', 'city', 'state', 'zip', 'dob', 'trans_num','trans_date_trans_time'],inplace=True)\n",
        "encoder = LabelEncoder()\n",
        "test_data[\"merchant\"] = encoder.fit_transform(test_data[\"merchant\"])\n",
        "test_data[\"category\"] = encoder.fit_transform(test_data[\"category\"])\n",
        "test_data[\"gender\"] = encoder.fit_transform(test_data[\"gender\"])\n",
        "test_data[\"job\"] = encoder.fit_transform(test_data[\"job\"])\n",
        "\n",
        "X_test = test_data.drop(columns=[\"is_fraud\"], inplace = False)\n",
        "Y_test = test_data[\"is_fraud\"]\n",
        "\n",
        "y_pred = model.predict(X_test)\n",
        "y_pred\n",
        "\n",
        "accuracy = accuracy_score(test_data['is_fraud'],y_pred)\n",
        "accuracy"
      ],
      "metadata": {
        "id": "gIRFrYSKUBjC",
        "colab": {
          "base_uri": "https://localhost:8080/"
        },
        "outputId": "df51ef4c-2d56-4700-e915-e7f43d3e5c62"
      },
      "execution_count": null,
      "outputs": [
        {
          "output_type": "execute_result",
          "data": {
            "text/plain": [
              "0.9961401355721147"
            ]
          },
          "metadata": {},
          "execution_count": 17
        }
      ]
    },
    {
      "cell_type": "markdown",
      "source": [
        "## Task 3"
      ],
      "metadata": {
        "id": "u_H6mS-ndTla"
      }
    },
    {
      "cell_type": "code",
      "source": [
        "import pandas as pd\n",
        "from sklearn.model_selection import train_test_split\n",
        "from sklearn.feature_extraction.text import TfidfVectorizer\n",
        "from sklearn.naive_bayes import MultinomialNB\n",
        "from sklearn.metrics import accuracy_score, classification_report\n",
        "\n",
        "data = pd.read_csv(\"https://raw.githubusercontent.com/kashyapjain/Datasets/main/Churn_Modelling.csv\")\n",
        "data.columns"
      ],
      "metadata": {
        "colab": {
          "base_uri": "https://localhost:8080/"
        },
        "id": "AojTf_MjdVqt",
        "outputId": "d2d4f454-a0b4-4234-f4f8-c2806154a4b6"
      },
      "execution_count": 4,
      "outputs": [
        {
          "output_type": "execute_result",
          "data": {
            "text/plain": [
              "Index(['RowNumber', 'CustomerId', 'Surname', 'CreditScore', 'Geography',\n",
              "       'Gender', 'Age', 'Tenure', 'Balance', 'NumOfProducts', 'HasCrCard',\n",
              "       'IsActiveMember', 'EstimatedSalary', 'Exited'],\n",
              "      dtype='object')"
            ]
          },
          "metadata": {},
          "execution_count": 4
        }
      ]
    },
    {
      "cell_type": "code",
      "source": [
        "import pandas as pd\n",
        "from sklearn.linear_model import LogisticRegression\n",
        "from sklearn.ensemble import RandomForestClassifier, GradientBoostingClassifier\n",
        "\n",
        "data.drop(columns=['RowNumber', 'CustomerId', 'Surname'], inplace=True)\n",
        "data = pd.get_dummies(data, columns=['Geography', 'Gender'], drop_first=True)\n",
        "\n",
        "\n",
        "X = data.drop('Exited', axis=1)\n",
        "y = data['Exited']\n",
        "X_train, X_test, y_train, y_test = train_test_split(X, y, test_size=0.2, random_state=42)\n",
        "\n",
        "models = [LogisticRegression(), RandomForestClassifier(), GradientBoostingClassifier()]\n",
        "\n",
        "for model in models:\n",
        "  model.fit(X_train, y_train)\n",
        "  y_pred = model.predict(X_test)\n",
        "  accuracy = accuracy_score(y_test, y_pred)\n",
        "  print(f\"Model: {model.__class__.__name__}, Accuracy: {accuracy}\")\n"
      ],
      "metadata": {
        "colab": {
          "base_uri": "https://localhost:8080/"
        },
        "id": "yXbbhbVresSe",
        "outputId": "9bf131e7-d9c1-490b-90fb-249953ab0bde"
      },
      "execution_count": 5,
      "outputs": [
        {
          "output_type": "stream",
          "name": "stdout",
          "text": [
            "Model: LogisticRegression, Accuracy: 0.8005\n",
            "Model: RandomForestClassifier, Accuracy: 0.8675\n",
            "Model: GradientBoostingClassifier, Accuracy: 0.8675\n"
          ]
        }
      ]
    },
    {
      "cell_type": "code",
      "source": [],
      "metadata": {
        "id": "fPcYZ668fEvu"
      },
      "execution_count": null,
      "outputs": []
    }
  ]
}